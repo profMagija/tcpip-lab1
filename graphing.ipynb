{
 "cells": [
  {
   "cell_type": "code",
   "execution_count": 1,
   "metadata": {},
   "outputs": [],
   "source": [
    "import pandas as pd\n",
    "import seaborn as sns\n",
    "import matplotlib.pyplot as plt"
   ]
  },
  {
   "cell_type": "code",
   "execution_count": 33,
   "metadata": {},
   "outputs": [],
   "source": [
    "df = pd.read_csv('./output_2.csv')\n",
    "df['all hosts pinging'] = df.pingings != 1\n",
    "star = df[df.topo == 'star']\n",
    "bus = df[df.topo == 'bus']"
   ]
  },
  {
   "cell_type": "code",
   "execution_count": null,
   "metadata": {},
   "outputs": [
    {
     "data": {
      "image/png": "[encoded data removed]",
      "text/plain": [
       "<Figure size 864x432 with 2 Axes>"
      ]
     },
     "metadata": {
      "needs_background": "light"
     },
     "output_type": "display_data"
    }
   ],
   "source": [
    "def plotujjjj(bus, name):\n",
    "    fig, (ax1,ax2) = plt.subplots(1, 2, sharey=True, figsize=(12, 6))\n",
    "\n",
    "    sns.barplot(x='n', y='avg', hue='all hosts pinging', data=bus[~bus.random], ax=ax1)\n",
    "    sns.barplot(x='n', y='avg', hue='all hosts pinging', data=bus[bus.random], ax=ax2)\n",
    "#     ax1.set_yscale('log')\n",
    "#     ax2.set_yscale('log')\n",
    "\n",
    "    ax1.set_xlabel('number of nodes (non-random)')\n",
    "    ax2.set_xlabel('number of nodes (random)')\n",
    "\n",
    "    ax1.set_ylabel('average RTT [ms]')\n",
    "    ax2.set_ylabel('')\n",
    "\n",
    "#     plt.savefig(name)\n",
    "    plt.show()\n",
    "    \n",
    "plotujjjj(bus, 'bus_results.png')\n",
    "plotujjjj(star, 'star_results.png')"
   ]
  },
  {
   "cell_type": "code",
   "execution_count": 25,
   "metadata": {},
   "outputs": [
    {
     "name": "stdout",
     "output_type": "stream",
     "text": [
      "Help on function subplots in module matplotlib.pyplot:\n",
      "\n",
      "subplots(nrows=1, ncols=1, sharex=False, sharey=False, squeeze=True, subplot_kw=None, gridspec_kw=None, **fig_kw)\n",
      "    Create a figure and a set of subplots.\n",
      "    \n",
      "    This utility wrapper makes it convenient to create common layouts of\n",
      "    subplots, including the enclosing figure object, in a single call.\n",
      "    \n",
      "    Parameters\n",
      "    ----------\n",
      "    nrows, ncols : int, optional, default: 1\n",
      "        Number of rows/columns of the subplot grid.\n",
      "    \n",
      "    sharex, sharey : bool or {'none', 'all', 'row', 'col'}, default: False\n",
      "        Controls sharing of properties among x (`sharex`) or y (`sharey`)\n",
      "        axes:\n",
      "    \n",
      "            - True or 'all': x- or y-axis will be shared among all\n",
      "              subplots.\n",
      "            - False or 'none': each subplot x- or y-axis will be\n",
      "              independent.\n",
      "            - 'row': each subplot row will share an x- or y-axis.\n",
      "            - 'col': each subplot column will share an x- or y-axis.\n",
      "    \n",
      "        When subplots have a shared x-axis along a column, only the x tick\n",
      "        labels of the bottom subplot are created. Similarly, when subplots\n",
      "        have a shared y-axis along a row, only the y tick labels of the first\n",
      "        column subplot are created. To later turn other subplots' ticklabels\n",
      "        on, use `~matplotlib.axes.Axes.tick_params`.\n",
      "    \n",
      "    squeeze : bool, optional, default: True\n",
      "        - If True, extra dimensions are squeezed out from the returned\n",
      "          array of `~matplotlib.axes.Axes`:\n",
      "    \n",
      "            - if only one subplot is constructed (nrows=ncols=1), the\n",
      "              resulting single Axes object is returned as a scalar.\n",
      "            - for Nx1 or 1xM subplots, the returned object is a 1D numpy\n",
      "              object array of Axes objects.\n",
      "            - for NxM, subplots with N>1 and M>1 are returned as a 2D array.\n",
      "    \n",
      "        - If False, no squeezing at all is done: the returned Axes object is\n",
      "          always a 2D array containing Axes instances, even if it ends up\n",
      "          being 1x1.\n",
      "    \n",
      "    num : integer or string, optional, default: None\n",
      "        A `.pyplot.figure` keyword that sets the figure number or label.\n",
      "    \n",
      "    subplot_kw : dict, optional\n",
      "        Dict with keywords passed to the\n",
      "        `~matplotlib.figure.Figure.add_subplot` call used to create each\n",
      "        subplot.\n",
      "    \n",
      "    gridspec_kw : dict, optional\n",
      "        Dict with keywords passed to the `~matplotlib.gridspec.GridSpec`\n",
      "        constructor used to create the grid the subplots are placed on.\n",
      "    \n",
      "    **fig_kw\n",
      "        All additional keyword arguments are passed to the\n",
      "        `.pyplot.figure` call.\n",
      "    \n",
      "    Returns\n",
      "    -------\n",
      "    fig : `~.figure.Figure`\n",
      "    \n",
      "    ax : `.axes.Axes` object or array of Axes objects.\n",
      "        *ax* can be either a single `~matplotlib.axes.Axes` object or an\n",
      "        array of Axes objects if more than one subplot was created.  The\n",
      "        dimensions of the resulting array can be controlled with the squeeze\n",
      "        keyword, see above.\n",
      "    \n",
      "    Examples\n",
      "    --------\n",
      "    ::\n",
      "    \n",
      "        # First create some toy data:\n",
      "        x = np.linspace(0, 2*np.pi, 400)\n",
      "        y = np.sin(x**2)\n",
      "    \n",
      "        # Creates just a figure and only one subplot\n",
      "        fig, ax = plt.subplots()\n",
      "        ax.plot(x, y)\n",
      "        ax.set_title('Simple plot')\n",
      "    \n",
      "        # Creates two subplots and unpacks the output array immediately\n",
      "        f, (ax1, ax2) = plt.subplots(1, 2, sharey=True)\n",
      "        ax1.plot(x, y)\n",
      "        ax1.set_title('Sharing Y axis')\n",
      "        ax2.scatter(x, y)\n",
      "    \n",
      "        # Creates four polar axes, and accesses them through the returned array\n",
      "        fig, axes = plt.subplots(2, 2, subplot_kw=dict(polar=True))\n",
      "        axes[0, 0].plot(x, y)\n",
      "        axes[1, 1].scatter(x, y)\n",
      "    \n",
      "        # Share a X axis with each column of subplots\n",
      "        plt.subplots(2, 2, sharex='col')\n",
      "    \n",
      "        # Share a Y axis with each row of subplots\n",
      "        plt.subplots(2, 2, sharey='row')\n",
      "    \n",
      "        # Share both X and Y axes with all subplots\n",
      "        plt.subplots(2, 2, sharex='all', sharey='all')\n",
      "    \n",
      "        # Note that this is the same as\n",
      "        plt.subplots(2, 2, sharex=True, sharey=True)\n",
      "    \n",
      "        # Creates figure number 10 with a single subplot\n",
      "        # and clears it if it already exists.\n",
      "        fig, ax=plt.subplots(num=10, clear=True)\n",
      "    \n",
      "    See Also\n",
      "    --------\n",
      "    .pyplot.figure\n",
      "    .pyplot.subplot\n",
      "    .pyplot.axes\n",
      "    .Figure.subplots\n",
      "    .Figure.add_subplot\n",
      "\n"
     ]
    }
   ],
   "source": []
  },
  {
   "cell_type": "code",
   "execution_count": null,
   "metadata": {},
   "outputs": [],
   "source": []
  }
 ],
 "metadata": {
  "kernelspec": {
   "display_name": "Python 3",
   "language": "python",
   "name": "python3"
  },
  "language_info": {
   "codemirror_mode": {
    "name": "ipython",
    "version": 3
   },
   "file_extension": ".py",
   "mimetype": "text/x-python",
   "name": "python",
   "nbconvert_exporter": "python",
   "pygments_lexer": "ipython3",
   "version": "3.8.6"
  }
 },
 "nbformat": 4,
 "nbformat_minor": 4
}
